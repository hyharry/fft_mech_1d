{
 "cells": [
  {
   "cell_type": "code",
   "execution_count": 7,
   "metadata": {},
   "outputs": [],
   "source": [
    "import numpy as np\n",
    "from numpy.fft import fft, ifft\n",
    "from numpy.linalg import norm\n",
    "from scipy.sparse.linalg import LinearOperator, cg"
   ]
  },
  {
   "cell_type": "markdown",
   "metadata": {},
   "source": [
    "Moulinec, Suquet"
   ]
  },
  {
   "cell_type": "code",
   "execution_count": 10,
   "metadata": {},
   "outputs": [],
   "source": [
    "def one_d_suquet_solver(K, K_ref, tol):\n",
    "    # linear reference medium\n",
    "    Gamma = 1/K_ref*np.ones(K.size)\n",
    "    # compute solution\n",
    "    eps = np.ones(K.size) # BC\n",
    "    it_n = 0\n",
    "    while True:\n",
    "        it_n += 1\n",
    "        sigma = K*eps\n",
    "        eps_incr_hat = -Gamma*fft(sigma)\n",
    "        eps_incr_hat[0] = 0 # BC\n",
    "        eps += ifft(eps_incr_hat).real\n",
    "        eps_incr = ifft(eps_incr_hat).real\n",
    "        if norm(eps_incr) < tol: return eps, it_n"
   ]
  },
  {
   "cell_type": "code",
   "execution_count": 25,
   "metadata": {},
   "outputs": [
    {
     "data": {
      "text/plain": [
       "5"
      ]
     },
     "execution_count": 25,
     "metadata": {},
     "output_type": "execute_result"
    }
   ],
   "source": [
    "K = np.array([1, 1, 3, 3])\n",
    "K_ref, tol = 3, 1e-2 # ad-hoc\n",
    "eps, it_n = one_d_suquet_solver(K, K_ref, tol)\n",
    "it_n"
   ]
  },
  {
   "cell_type": "code",
   "execution_count": null,
   "metadata": {},
   "outputs": [],
   "source": [
    "K = np.array([2, 2, 2, 1, 1, 4])\n",
    "K_ref, tol = 3, 1e-2 # ad-hoc\n",
    "eps, it_n = linear_one_d_solver(K)"
   ]
  },
  {
   "cell_type": "code",
   "execution_count": null,
   "metadata": {},
   "outputs": [],
   "source": [
    "K = np.array([0, 0, 2, 1, 1, 0, 1])\n",
    "K_ref, tol = 1.2, 1e-2 # ad-hoc\n",
    "eps, it_n = linear_one_d_solver(K)"
   ]
  },
  {
   "cell_type": "markdown",
   "metadata": {},
   "source": [
    "variational scheme, Zeman, de Geus"
   ]
  },
  {
   "cell_type": "code",
   "execution_count": 23,
   "metadata": {},
   "outputs": [
    {
     "name": "stdout",
     "output_type": "stream",
     "text": [
      "[0]\n"
     ]
    }
   ],
   "source": [
    "it_n_cg = [0] # hack for remember it_n during call\n",
    "def cg_callback(xk):\n",
    "    it_n_cg[0] += 1\n",
    "print(it_n_cg)\n",
    "\n",
    "def linear_one_d_solver(K):\n",
    "    # shape of the system of equations\n",
    "    shape = (K.size, K.size)\n",
    "    # compatibility\n",
    "    G = LinearOperator(shape,matvec=lambda x: x-x.mean())\n",
    "    GK = LinearOperator(shape,matvec=lambda x: G*(K*x))\n",
    "    # compute solution\n",
    "    eps_bar = np.ones(K.shape) # BC\n",
    "    sigma = K*(eps_bar)\n",
    "    rhs = -G*sigma # rhs of Ax = b\n",
    "    eps, info = cg(A=GK, b=rhs, callback=cg_callback) # conjugate gradient\n",
    "    print('it_n_cg = ', it_n_cg[0])\n",
    "    return eps"
   ]
  },
  {
   "cell_type": "code",
   "execution_count": 24,
   "metadata": {},
   "outputs": [
    {
     "name": "stdout",
     "output_type": "stream",
     "text": [
      "it_n_cg =  1\n"
     ]
    }
   ],
   "source": [
    "K = np.array([1, 1, 3, 3])\n",
    "eps = linear_one_d_solver(K)"
   ]
  },
  {
   "cell_type": "code",
   "execution_count": null,
   "metadata": {},
   "outputs": [],
   "source": []
  }
 ],
 "metadata": {
  "kernelspec": {
   "display_name": "Python 3",
   "language": "python",
   "name": "python3"
  },
  "language_info": {
   "codemirror_mode": {
    "name": "ipython",
    "version": 3
   },
   "file_extension": ".py",
   "mimetype": "text/x-python",
   "name": "python",
   "nbconvert_exporter": "python",
   "pygments_lexer": "ipython3",
   "version": "3.10.12"
  }
 },
 "nbformat": 4,
 "nbformat_minor": 2
}
